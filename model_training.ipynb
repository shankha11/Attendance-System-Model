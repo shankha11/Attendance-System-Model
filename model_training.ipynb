{
 "cells": [
  {
   "cell_type": "markdown",
   "metadata": {},
   "source": [
    "# Attendance System Model"
   ]
  },
  {
   "cell_type": "code",
   "execution_count": 1,
   "metadata": {},
   "outputs": [],
   "source": [
    "#Import Libaries\n",
    "import cv2\n",
    "import face_recognition\n",
    "import numpy as np\n",
    "from datetime import datetime\n",
    "import csv\n",
    "import pickle\n"
   ]
  },
  {
   "cell_type": "code",
   "execution_count": 2,
   "metadata": {},
   "outputs": [],
   "source": [
    "def save_model(known_face_encodings, known_face_names, filename='model.pkl'):\n",
    "    with open(filename, 'wb') as f:\n",
    "        pickle.dump((known_face_encodings, known_face_names), f)\n",
    "    print(f\"Model saved to {filename}\")\n",
    "\n",
    "def load_model(filename='model.pkl'):\n",
    "    with open(filename, 'rb') as f:\n",
    "        known_face_encodings, known_face_names = pickle.load(f)\n",
    "    print(f\"Model loaded from {filename}\")\n",
    "    return known_face_encodings, known_face_names"
   ]
  },
  {
   "cell_type": "code",
   "execution_count": 3,
   "metadata": {},
   "outputs": [],
   "source": [
    "\n",
    "#  Load and convert Dube image to RGB, then generate the face encoding.\n",
    "Dube_img = cv2.imread('Student_images/Dube.jpeg')\n",
    "rgb_img = cv2.cvtColor(Dube_img,cv2.COLOR_BGR2RGB)\n",
    "Dube_encoding = face_recognition.face_encodings(rgb_img)[0]"
   ]
  },
  {
   "cell_type": "code",
   "execution_count": 4,
   "metadata": {},
   "outputs": [],
   "source": [
    "Rahul_img = face_recognition.load_image_file('Student_images/Rahul.jpeg')\n",
    "rgb_img = cv2.cvtColor(Rahul_img,cv2.COLOR_BGR2RGB)\n",
    "\n",
    "Rahul_encoding = face_recognition.face_encodings(rgb_img)[0]\n"
   ]
  },
  {
   "cell_type": "code",
   "execution_count": 5,
   "metadata": {},
   "outputs": [],
   "source": [
    "Priyanka_img = face_recognition.load_image_file('Student_images/Priyanka.jpeg')\n",
    "rgb_img = cv2.cvtColor(Priyanka_img,cv2.COLOR_BGR2RGB)\n",
    "\n",
    "Priyanka_encoding = face_recognition.face_encodings(rgb_img)[0]\n"
   ]
  },
  {
   "cell_type": "code",
   "execution_count": 6,
   "metadata": {},
   "outputs": [],
   "source": [
    " # Initialize lists to store face encodings and corresponding names of known individuals.\n",
    "known_face_encodings=[]\n",
    "known_face_names=[]"
   ]
  },
  {
   "cell_type": "code",
   "execution_count": 7,
   "metadata": {},
   "outputs": [],
   "source": [
    "# Append face encodings and corresponding names for Dube, Rahul, and Priyanka to the known face lists.\n",
    "known_face_encodings.append(Dube_encoding)\n",
    "known_face_encodings.append(Rahul_encoding)\n",
    "known_face_encodings.append(Priyanka_encoding)\n",
    "\n",
    "known_face_names.append(\"Dube\")\n",
    "known_face_names.append(\"Rahul\")\n",
    "known_face_names.append(\"Priyanka\")"
   ]
  },
  {
   "cell_type": "code",
   "execution_count": 8,
   "metadata": {},
   "outputs": [
    {
     "name": "stdout",
     "output_type": "stream",
     "text": [
      "Model saved to model.pkl\n",
      "Model loaded from model.pkl\n"
     ]
    }
   ],
   "source": [
    "# Save the model after setting known_face_encodings and known_face_names\n",
    "save_model(known_face_encodings, known_face_names)\n",
    "\n",
    "# Load the model before starting the attendance system\n",
    "known_face_encodings, known_face_names = load_model()"
   ]
  },
  {
   "cell_type": "code",
   "execution_count": 9,
   "metadata": {},
   "outputs": [
    {
     "data": {
      "text/plain": [
       "[array([-0.09077682,  0.09815258, -0.00861273, -0.12080076, -0.14985181,\n",
       "        -0.05582901, -0.07290477, -0.07338957,  0.1369876 , -0.06659783,\n",
       "         0.22513019, -0.08815089, -0.20541653, -0.10658409, -0.09205672,\n",
       "         0.14257059, -0.21329044, -0.13794345,  0.05329   ,  0.04933114,\n",
       "         0.13474847, -0.02731856,  0.0059605 ,  0.14881299, -0.08836862,\n",
       "        -0.41588777, -0.06965014, -0.12819168, -0.05888664, -0.0768429 ,\n",
       "        -0.01351132,  0.01343086, -0.19104604, -0.06072477, -0.02229544,\n",
       "         0.03851949,  0.02359387, -0.05226441,  0.18553829,  0.02707182,\n",
       "        -0.27247214,  0.06775616,  0.03086718,  0.26349178,  0.20128901,\n",
       "         0.04790178,  0.01647726, -0.10128615,  0.13512507, -0.1686542 ,\n",
       "        -0.00327746,  0.17285651,  0.1167683 , -0.05950103, -0.02766895,\n",
       "        -0.1018253 ,  0.03835895,  0.12313518, -0.28404665, -0.00560522,\n",
       "         0.03992122, -0.04617362,  0.03701376, -0.09011234,  0.21618359,\n",
       "         0.0878024 , -0.10559368, -0.19547047,  0.10971285, -0.24043281,\n",
       "        -0.11935761,  0.02746527, -0.1153039 , -0.21934292, -0.32116616,\n",
       "        -0.00835969,  0.30594689,  0.17677097, -0.21116978,  0.08114563,\n",
       "        -0.08368834, -0.04024512,  0.07650705,  0.12804872, -0.02579195,\n",
       "         0.0597019 , -0.14337198, -0.07039609,  0.1958933 , -0.01338448,\n",
       "        -0.01077719,  0.26901412,  0.00096947,  0.05930343,  0.05786872,\n",
       "        -0.0009863 , -0.15137854,  0.07597448, -0.14181164, -0.00152216,\n",
       "        -0.06216069, -0.05422545, -0.01123404,  0.09786252, -0.24990691,\n",
       "         0.12276685, -0.07178386, -0.03262212, -0.08930212, -0.0181402 ,\n",
       "        -0.09046355, -0.05543045,  0.14393543, -0.21508895,  0.16810931,\n",
       "         0.18005688,  0.1562487 ,  0.16416664,  0.15457417, -0.02089071,\n",
       "        -0.02367367, -0.0572071 , -0.22248776, -0.01804729,  0.09254759,\n",
       "        -0.10808674,  0.15234889,  0.00847871]),\n",
       " array([-0.06383446,  0.10070463, -0.01187347, -0.02007377, -0.12025291,\n",
       "         0.02875171, -0.04556534, -0.05847122,  0.09616155, -0.05371288,\n",
       "         0.24790692, -0.03427069, -0.27082944, -0.08407266, -0.04390536,\n",
       "         0.1096898 , -0.23156865, -0.18488228, -0.04834051, -0.0585754 ,\n",
       "         0.00444654,  0.06326819,  0.03993893,  0.1267194 , -0.10090415,\n",
       "        -0.4105671 , -0.01295259, -0.15062051,  0.04689586, -0.09067602,\n",
       "         0.00894904,  0.11401269, -0.10613783, -0.00765231,  0.00498182,\n",
       "         0.05030714, -0.04582209, -0.03011076,  0.29176813,  0.10512885,\n",
       "        -0.22897759,  0.02128126, -0.01498737,  0.39478874,  0.25085887,\n",
       "         0.0231994 ,  0.03767414, -0.00389574,  0.13790447, -0.29903188,\n",
       "         0.04355108,  0.25634342,  0.17302674, -0.01713417,  0.03690677,\n",
       "        -0.1094413 , -0.0399902 ,  0.13353525, -0.2488672 ,  0.05624533,\n",
       "         0.00226991, -0.08488611,  0.0793539 , -0.07911047,  0.15329525,\n",
       "         0.03851184, -0.10708985, -0.08560827,  0.13085176, -0.19625759,\n",
       "        -0.11944655,  0.14877197, -0.13597326, -0.24052939, -0.27618843,\n",
       "         0.04485442,  0.4549537 ,  0.17277651, -0.09090671,  0.0168623 ,\n",
       "        -0.00736677, -0.13788497,  0.04009726,  0.11256549, -0.10127936,\n",
       "        -0.06971666, -0.12236851,  0.04880189,  0.17261021,  0.01445327,\n",
       "        -0.08831211,  0.21441421, -0.01297252,  0.02457512,  0.06209231,\n",
       "         0.09902185, -0.07373065,  0.05647447, -0.09869328, -0.00490157,\n",
       "        -0.03718276, -0.10153769,  0.01824607,  0.0296455 , -0.16525032,\n",
       "         0.13822027, -0.05470055, -0.02883328, -0.05092689, -0.02886928,\n",
       "        -0.0832212 ,  0.01813467,  0.20332408, -0.27912512,  0.1236952 ,\n",
       "         0.19919215,  0.07310851,  0.16523921,  0.06163882, -0.02971062,\n",
       "        -0.03270968, -0.12102087, -0.1928153 , -0.10979386,  0.06302876,\n",
       "        -0.02091481,  0.10275115,  0.00683791]),\n",
       " array([-0.09368645,  0.08148375,  0.0659252 , -0.16670027, -0.14348388,\n",
       "        -0.05638433, -0.07038726, -0.11071904,  0.17156437, -0.14047253,\n",
       "         0.25248882, -0.13006739, -0.18474896, -0.02875011, -0.12030871,\n",
       "         0.1883828 , -0.26014575, -0.12464471,  0.05655943,  0.04201284,\n",
       "         0.0823961 , -0.07510347,  0.03506876,  0.03598027, -0.1512461 ,\n",
       "        -0.39859334, -0.1004151 , -0.07745615, -0.08256499, -0.02730557,\n",
       "         0.07736251,  0.12144776, -0.22601554, -0.04718246, -0.06117118,\n",
       "         0.06097343,  0.01158241, -0.12508023,  0.19373372,  0.01386096,\n",
       "        -0.28397793, -0.02730181,  0.0830935 ,  0.25964415,  0.11998244,\n",
       "        -0.01525553,  0.03471179, -0.11864764,  0.12139887, -0.240578  ,\n",
       "         0.00344726,  0.10061838,  0.03335508,  0.00150876, -0.01541435,\n",
       "        -0.09533648,  0.10433992,  0.16000757, -0.18192111, -0.00159575,\n",
       "         0.10958192, -0.03626207,  0.02544776, -0.14009246,  0.26764071,\n",
       "         0.1621045 , -0.09277727, -0.13240544,  0.12079663, -0.06608027,\n",
       "        -0.08249904,  0.06706071, -0.16844274, -0.20293936, -0.3387174 ,\n",
       "        -0.02351376,  0.36039764,  0.13053583, -0.11680313, -0.00930331,\n",
       "        -0.07488852,  0.00617045,  0.11731625,  0.17892709,  0.00328408,\n",
       "         0.02487484, -0.07378983,  0.02193013,  0.23649968, -0.06458276,\n",
       "        -0.07142381,  0.21322753, -0.02731599,  0.04078434, -0.04937722,\n",
       "         0.00487426, -0.12157398,  0.10815571, -0.16566485,  0.02899379,\n",
       "         0.02781014,  0.01965427, -0.04536479,  0.17859802, -0.20770909,\n",
       "         0.06838004, -0.02338538, -0.04117149,  0.01629383, -0.03060331,\n",
       "        -0.02523245, -0.06203841,  0.11640038, -0.18022954,  0.13521469,\n",
       "         0.18084027,  0.07559797,  0.14263949,  0.13772921,  0.02675504,\n",
       "        -0.02616715, -0.03892863, -0.2365544 ,  0.02927605,  0.10570581,\n",
       "        -0.0348771 ,  0.09023924, -0.01780892])]"
      ]
     },
     "execution_count": 9,
     "metadata": {},
     "output_type": "execute_result"
    }
   ],
   "source": [
    "known_face_encodings"
   ]
  },
  {
   "cell_type": "code",
   "execution_count": 10,
   "metadata": {},
   "outputs": [
    {
     "data": {
      "text/plain": [
       "['Dube', 'Rahul', 'Priyanka']"
      ]
     },
     "execution_count": 10,
     "metadata": {},
     "output_type": "execute_result"
    }
   ],
   "source": [
    "known_face_names"
   ]
  },
  {
   "cell_type": "code",
   "execution_count": 11,
   "metadata": {},
   "outputs": [],
   "source": [
    "students=known_face_names.copy()"
   ]
  },
  {
   "cell_type": "code",
   "execution_count": 12,
   "metadata": {},
   "outputs": [],
   "source": [
    "face_names=[]"
   ]
  },
  {
   "cell_type": "code",
   "execution_count": 13,
   "metadata": {},
   "outputs": [],
   "source": [
    "# Generate a filename based on the current date, open the CSV file for writing, and prepare a CSV writer.\n",
    "current_date = datetime.now().strftime('%Y-%m-%d')\n",
    "filename = f'attendance_{current_date}.csv'\n",
    "f= open(filename, 'w+', newline='')\n",
    "lnwriter = csv.writer(f)"
   ]
  },
  {
   "cell_type": "code",
   "execution_count": 14,
   "metadata": {},
   "outputs": [],
   "source": [
    "video_cap= cv2.VideoCapture(0)"
   ]
  },
  {
   "cell_type": "code",
   "execution_count": 15,
   "metadata": {},
   "outputs": [],
   "source": [
    "while True:\n",
    "    ret, frame= video_cap.read()\n",
    "    small_frame = cv2.resize(frame, (0,0), fx=0.25, fy=0.25)\n",
    "    rgb_small_frame = np.ascontiguousarray(small_frame[:, :, ::-1])\n",
    "\n",
    "    face_locations =face_recognition.face_locations(frame)\n",
    "    face_encodings = face_recognition.face_encodings(frame,face_locations)\n",
    "\n",
    "    for(top,right,bottom,left), face_encodings in zip(face_locations,face_encodings):\n",
    "        matches = face_recognition.compare_faces(known_face_encodings,face_encodings)\n",
    "        name = 'unknown'\n",
    "\n",
    "        if True in matches:\n",
    "            first_match_index = matches.index(True)\n",
    "            name = known_face_names[first_match_index]\n",
    "        \n",
    "        face_names.append(name)\n",
    "        if name in known_face_names:\n",
    "            if name in students:\n",
    "                students.remove(name)\n",
    "                current_time = datetime.now().strftime(\"%H-%M-%S\")\n",
    "                lnwriter.writerow([name, current_time,'Present'])\n",
    "        \n",
    "        cv2.rectangle(frame,(left,top),(right,bottom),(0,0,255),2)\n",
    "        cv2.putText(frame,name,(left,top-10),cv2.FONT_HERSHEY_SIMPLEX,0.9,(0,0,255),2)\n",
    "        \n",
    "    \n",
    "\n",
    "    # Display the resulting frame\n",
    "    cv2.imshow(\"Attendance System\", frame)\n",
    "\n",
    "    if cv2.waitKey(1) & 0xFF == ord('q'):\n",
    "        break\n",
    "\n",
    "video_cap.release()\n",
    "cv2.destroyAllWindows()\n",
    "f.close()\n"
   ]
  }
 ],
 "metadata": {
  "kernelspec": {
   "display_name": "Python 3",
   "language": "python",
   "name": "python3"
  },
  "language_info": {
   "codemirror_mode": {
    "name": "ipython",
    "version": 3
   },
   "file_extension": ".py",
   "mimetype": "text/x-python",
   "name": "python",
   "nbconvert_exporter": "python",
   "pygments_lexer": "ipython3",
   "version": "3.12.2"
  }
 },
 "nbformat": 4,
 "nbformat_minor": 2
}
